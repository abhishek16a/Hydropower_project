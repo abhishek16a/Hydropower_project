{
 "cells": [
  {
   "cell_type": "markdown",
   "id": "365c78b0",
   "metadata": {},
   "source": [
    "# 02_clean_features (Rebuilt)\n",
    "\n",
    "This notebook builds a clean daily features table from master hydrology/load data.\n",
    "\n",
    "**Outputs:** `features_daily.csv`\n",
    "\n",
    "Steps:\n",
    "1. Load master file\n",
    "2. Normalize column names & types\n",
    "3. Fill small gaps conservatively\n",
    "4. Add calendar features\n",
    "5. Add lags & rolling stats\n",
    "6. Save final features file"
   ]
  },
  {
   "cell_type": "markdown",
   "id": "56bdc5cc",
   "metadata": {},
   "source": [
    "### Cell 1 — Setup & configuration"
   ]
  },
  {
   "cell_type": "code",
   "execution_count": null,
   "id": "7cf5d8d6",
   "metadata": {},
   "outputs": [],
   "source": [
    "\n",
    "import pandas as pd\n",
    "import numpy as np\n",
    "from pathlib import Path\n",
    "\n",
    "MASTER_PATH = \"master_kaligandaki_daily_withrain.csv\"   # or .xlsx\n",
    "FEATURES_OUT = \"features_daily.csv\"\n",
    "\n",
    "START = pd.Timestamp(\"2019-01-01\")\n",
    "END   = pd.Timestamp(\"2023-12-31\")\n",
    "\n",
    "print(\"MASTER_PATH:\", MASTER_PATH)\n"
   ]
  },
  {
   "cell_type": "markdown",
   "id": "bdb74fac",
   "metadata": {},
   "source": [
    "### Cell 2 — Load master (CSV/XLSX) & clean"
   ]
  },
  {
   "cell_type": "code",
   "execution_count": null,
   "id": "912c6a40",
   "metadata": {},
   "outputs": [],
   "source": [
    "\n",
    "def load_master(path: str) -> pd.DataFrame:\n",
    "    p = Path(path)\n",
    "    if not p.exists():\n",
    "        raise FileNotFoundError(f\"Master not found: {p.resolve()}\")\n",
    "    if p.suffix.lower() in [\".xlsx\", \".xls\"]:\n",
    "        df = pd.read_excel(p)\n",
    "    else:\n",
    "        df = pd.read_csv(p)\n",
    "    if \"date\" not in df.columns:\n",
    "        for cand in [\"Date\",\"DATE\",\"day\",\"Day\",\"dt\",\"timestamp\",\"Timestamp\"]:\n",
    "            if cand in df.columns:\n",
    "                df = df.rename(columns={cand: \"date\"})\n",
    "                break\n",
    "    df[\"date\"] = pd.to_datetime(df[\"date\"], errors=\"coerce\").dt.normalize()\n",
    "    df = df.dropna(subset=[\"date\"]).drop_duplicates(subset=[\"date\"]).sort_values(\"date\").reset_index(drop=True)\n",
    "    return df\n",
    "\n",
    "df = load_master(MASTER_PATH)\n",
    "print(\"Loaded rows:\", len(df), \"| range:\", df[\"date\"].min().date(), \"→\", df[\"date\"].max().date())\n",
    "df.head()\n"
   ]
  },
  {
   "cell_type": "markdown",
   "id": "dcfcf285",
   "metadata": {},
   "source": [
    "### Cell 3 — Standardize columns & coerce numeric"
   ]
  },
  {
   "cell_type": "code",
   "execution_count": null,
   "id": "8e66d78f",
   "metadata": {},
   "outputs": [],
   "source": [
    "\n",
    "rename_map = {\n",
    "    # e.g. \"rain_mm\": \"rainfall_mm\",\n",
    "    # \"Q_cms\": \"discharge_m3s\",\n",
    "    # \"res_level_m\": \"reservoir_m\",\n",
    "    # \"load\": \"load_MW\",\n",
    "}\n",
    "df = df.rename(columns=rename_map)\n",
    "\n",
    "for col in [\"rainfall_mm\",\"discharge_m3s\",\"reservoir_m\",\"load_MW\"]:\n",
    "    if col not in df.columns:\n",
    "        df[col] = np.nan\n",
    "    df[col] = pd.to_numeric(df[col], errors=\"coerce\")\n",
    "\n",
    "df = df[(df[\"date\"]>=START) & (df[\"date\"]<=END)].copy()\n",
    "print(df.dtypes)\n",
    "df.head(3)\n"
   ]
  },
  {
   "cell_type": "markdown",
   "id": "c675d604",
   "metadata": {},
   "source": [
    "### Cell 4 — Continuous daily index & gap filling"
   ]
  },
  {
   "cell_type": "code",
   "execution_count": null,
   "id": "191b35bc",
   "metadata": {},
   "outputs": [],
   "source": [
    "\n",
    "full_index = pd.DataFrame({\"date\": pd.date_range(df[\"date\"].min(), df[\"date\"].max(), freq=\"D\")})\n",
    "df = full_index.merge(df, on=\"date\", how=\"left\")\n",
    "\n",
    "df[\"rainfall_mm\"] = df[\"rainfall_mm\"].fillna(0)\n",
    "\n",
    "for col in [\"discharge_m3s\",\"reservoir_m\"]:\n",
    "    df[col] = df[col].interpolate(limit=3, limit_direction=\"both\")\n",
    "\n",
    "print(\"NaNs remaining:\")\n",
    "print(df.isna().sum())\n",
    "df.head(3)\n"
   ]
  },
  {
   "cell_type": "markdown",
   "id": "98969808",
   "metadata": {},
   "source": [
    "### Cell 5 — Calendar features"
   ]
  },
  {
   "cell_type": "code",
   "execution_count": null,
   "id": "63d73656",
   "metadata": {},
   "outputs": [],
   "source": [
    "\n",
    "cal = pd.DataFrame({\"date\": df[\"date\"]})\n",
    "cal[\"doy\"]   = cal[\"date\"].dt.dayofyear\n",
    "cal[\"dow\"]   = cal[\"date\"].dt.weekday\n",
    "cal[\"month\"] = cal[\"date\"].dt.month\n",
    "\n",
    "cal[\"doy_sin\"] = np.sin(2*np.pi*cal[\"doy\"]/365.25)\n",
    "cal[\"doy_cos\"] = np.cos(2*np.pi*cal[\"doy\"]/365.25)\n",
    "\n",
    "df = df.merge(cal, on=\"date\", how=\"left\")\n",
    "df.head(3)\n"
   ]
  },
  {
   "cell_type": "markdown",
   "id": "473587e6",
   "metadata": {},
   "source": [
    "### Cell 6 — Lags & rolling stats"
   ]
  },
  {
   "cell_type": "code",
   "execution_count": null,
   "id": "1b725166",
   "metadata": {},
   "outputs": [],
   "source": [
    "\n",
    "def add_lags_rolls(base: pd.DataFrame, cols, lags=(1,2,3,7,14), rolls=(3,7,14,30)) -> pd.DataFrame:\n",
    "    out = base.copy().set_index(\"date\")\n",
    "    for c in cols:\n",
    "        if c not in out.columns: \n",
    "            continue\n",
    "        for L in lags:\n",
    "            out[f\"{c}_lag{L}\"] = out[c].shift(L)\n",
    "        for W in rolls:\n",
    "            roll = out[c].rolling(W, min_periods=max(1, int(W*0.6)))\n",
    "            out[f\"{c}_rmean{W}\"] = roll.mean()\n",
    "            out[f\"{c}_rstd{W}\"]  = roll.std()\n",
    "    return out.reset_index()\n",
    "\n",
    "feature_cols = [\"rainfall_mm\",\"discharge_m3s\",\"reservoir_m\",\"load_MW\"]\n",
    "df_feat = add_lags_rolls(df, feature_cols)\n",
    "df_feat.head(3)\n"
   ]
  },
  {
   "cell_type": "markdown",
   "id": "752282c1",
   "metadata": {},
   "source": [
    "### Cell 7 — Target helpers (if load exists)"
   ]
  },
  {
   "cell_type": "code",
   "execution_count": null,
   "id": "2ae15e09",
   "metadata": {},
   "outputs": [],
   "source": [
    "\n",
    "if \"load_MW\" in df_feat.columns and df_feat[\"load_MW\"].notna().any():\n",
    "    df_feat[\"load_MW_diff1\"]  = df_feat[\"load_MW\"].diff(1)\n",
    "    df_feat[\"load_MW_rmean7\"] = df_feat[\"load_MW\"].rolling(7, min_periods=4).mean()\n",
    "df_feat.head(3)\n"
   ]
  },
  {
   "cell_type": "markdown",
   "id": "beaab55e",
   "metadata": {},
   "source": [
    "### Cell 8 — Final trim & save"
   ]
  },
  {
   "cell_type": "code",
   "execution_count": null,
   "id": "ee94433a",
   "metadata": {},
   "outputs": [],
   "source": [
    "\n",
    "warmup_days = 30\n",
    "min_keep = df_feat[\"date\"].min() + pd.Timedelta(days=warmup_days)\n",
    "df_out = df_feat[df_feat[\"date\"] >= min_keep].reset_index(drop=True)\n",
    "\n",
    "df_out.to_csv(FEATURES_OUT, index=False)\n",
    "print(\"Saved:\", FEATURES_OUT, \"| rows:\", len(df_out), \"| cols:\", len(df_out.columns))\n",
    "df_out.head()\n"
   ]
  }
 ],
 "metadata": {},
 "nbformat": 4,
 "nbformat_minor": 5
}
