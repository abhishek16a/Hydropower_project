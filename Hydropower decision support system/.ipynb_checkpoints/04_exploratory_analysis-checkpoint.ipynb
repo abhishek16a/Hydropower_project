{
 "cells": [
  {
   "cell_type": "markdown",
   "id": "d71a80bc",
   "metadata": {},
   "source": [
    "# 04_exploratory_analysis\n",
    "Exploratory Data Analysis (EDA) on the enriched dataset (`master_with_topics.csv`).\n",
    "\n",
    "**What this notebook does**\n",
    "1. Load `master_with_topics.csv`\n",
    "2. Basic summary (shape, date range, missing values)\n",
    "3. Time‑series plots for rainfall, discharge, reservoir, load\n",
    "4. Overlay/inspect text-derived features (keyword flags, LDA topics)\n",
    "5. Correlations (including simple lagged correlation vs. load)\n",
    "6. Seasonality views (monthly/weekday averages; optional decomposition)\n",
    "7. Quick comparisons (flagged vs. non-flagged days)\n"
   ]
  },
  {
   "cell_type": "markdown",
   "id": "56796469",
   "metadata": {},
   "source": [
    "### Cell 1 — Imports & config"
   ]
  },
  {
   "cell_type": "code",
   "execution_count": null,
   "id": "c51be06a",
   "metadata": {},
   "outputs": [],
   "source": [
    "import pandas as pd\n",
    "import numpy as np\n",
    "import matplotlib.pyplot as plt\n",
    "from pathlib import Path\n",
    "\n",
    "plt.rcParams['figure.figsize'] = (10, 4)  # default plot size\n",
    "DATA_PATH = \"master_with_topics.csv\"      # expected input\n",
    "print(\"Expecting:\", Path(DATA_PATH).resolve())"
   ]
  },
  {
   "cell_type": "markdown",
   "id": "005c11a5",
   "metadata": {},
   "source": [
    "### Cell 2 — Load dataset"
   ]
  },
  {
   "cell_type": "code",
   "execution_count": null,
   "id": "8fbb27b1",
   "metadata": {},
   "outputs": [],
   "source": [
    "df = pd.read_csv(DATA_PATH, parse_dates=['date']).sort_values('date').reset_index(drop=True)\n",
    "print(df.shape)\n",
    "print(df[['date']].agg(['min','max']))\n",
    "df.head()"
   ]
  },
  {
   "cell_type": "markdown",
   "id": "e37e08a7",
   "metadata": {},
   "source": [
    "### Cell 3 — Schema & missing values"
   ]
  },
  {
   "cell_type": "code",
   "execution_count": null,
   "id": "0765718f",
   "metadata": {},
   "outputs": [],
   "source": [
    "print(\"Columns:\", len(df.columns))\n",
    "print(df.columns.tolist()[:40])\n",
    "\n",
    "na_counts = df.isna().sum().sort_values(ascending=False)\n",
    "print(\"Top 20 columns by missing values:\")\n",
    "na_counts.head(20)"
   ]
  },
  {
   "cell_type": "markdown",
   "id": "e54817b0",
   "metadata": {},
   "source": [
    "### Cell 4 — Helper functions"
   ]
  },
  {
   "cell_type": "code",
   "execution_count": null,
   "id": "b7d65f29",
   "metadata": {},
   "outputs": [],
   "source": [
    "def first_existing(cols):\n",
    "    for c in cols:\n",
    "        if c in df.columns:\n",
    "            return c\n",
    "    return None\n",
    "\n",
    "COL_LOAD = first_existing(['load_MW','peak_load_mw','avg_load_mw'])\n",
    "COL_RAIN = first_existing(['rainfall_mm','rain_mm'])\n",
    "COL_Q    = first_existing(['discharge_m3s','discharge_cms','Q_cms'])\n",
    "COL_RES  = first_existing(['reservoir_m','gauge_m'])\n",
    "\n",
    "print(\"Detected columns ->\",\n",
    "      \"load:\", COL_LOAD, \"| rain:\", COL_RAIN, \"| discharge:\", COL_Q, \"| reservoir:\", COL_RES)"
   ]
  },
  {
   "cell_type": "markdown",
   "id": "f907993c",
   "metadata": {},
   "source": [
    "### Cell 5 — Time-series: rainfall, discharge, reservoir, load"
   ]
  },
  {
   "cell_type": "code",
   "execution_count": null,
   "id": "3803601e",
   "metadata": {},
   "outputs": [],
   "source": [
    "def plot_series(col, title):\n",
    "    if col and col in df.columns:\n",
    "        plt.figure()\n",
    "        plt.plot(df['date'], df[col])\n",
    "        plt.xlabel('date'); plt.ylabel(col); plt.title(title)\n",
    "        plt.tight_layout()\n",
    "        plt.show()\n",
    "\n",
    "plot_series(COL_RAIN, 'Daily Rainfall')\n",
    "plot_series(COL_Q,    'River Discharge')\n",
    "plot_series(COL_RES,  'Reservoir / Gauge Level')\n",
    "plot_series(COL_LOAD, 'Load (MW)')"
   ]
  },
  {
   "cell_type": "markdown",
   "id": "a1689fd0",
   "metadata": {},
   "source": [
    "### Cell 6 — Text-derived keyword flags overview"
   ]
  },
  {
   "cell_type": "code",
   "execution_count": null,
   "id": "c5f3ea80",
   "metadata": {},
   "outputs": [],
   "source": [
    "flag_cols = [c for c in df.columns if c.endswith('_flag')]\n",
    "print(\"Flag columns:\", flag_cols)\n",
    "\n",
    "flag_summary = df[flag_cols].sum().sort_values(ascending=False) if flag_cols else pd.Series(dtype=int)\n",
    "flag_summary"
   ]
  },
  {
   "cell_type": "markdown",
   "id": "9c12b581",
   "metadata": {},
   "source": [
    "### Cell 7 — Load with flagged days overlay"
   ]
  },
  {
   "cell_type": "code",
   "execution_count": null,
   "id": "a5427e35",
   "metadata": {},
   "outputs": [],
   "source": [
    "if COL_LOAD and flag_cols:\n",
    "    plt.figure(figsize=(12,4))\n",
    "    plt.plot(df['date'], df[COL_LOAD], label=COL_LOAD)\n",
    "    # mark days with any flag\n",
    "    any_flag = df[flag_cols].sum(axis=1) > 0\n",
    "    plt.scatter(df.loc[any_flag, 'date'], df.loc[any_flag, COL_LOAD], s=12, marker='o', label='flagged day')\n",
    "    plt.xlabel('date'); plt.ylabel(COL_LOAD); plt.title('Load with flagged days')\n",
    "    plt.legend()\n",
    "    plt.tight_layout()\n",
    "    plt.show()\n",
    "else:\n",
    "    print(\"Skip overlay (no load or no flags).\")"
   ]
  },
  {
   "cell_type": "markdown",
   "id": "360f4e4d",
   "metadata": {},
   "source": [
    "### Cell 8 — Correlation matrix & heatmap"
   ]
  },
  {
   "cell_type": "code",
   "execution_count": null,
   "id": "fccc98e7",
   "metadata": {},
   "outputs": [],
   "source": [
    "num_df = df.select_dtypes(include=[np.number]).copy()\n",
    "corr = num_df.corr().fillna(0.0)\n",
    "print(\"Numeric columns:\", num_df.columns.tolist()[:30])\n",
    "print(\"corr shape:\", corr.shape)\n",
    "\n",
    "# Basic heatmap using matplotlib (no seaborn)\n",
    "plt.figure(figsize=(8,6))\n",
    "plt.imshow(corr, aspect='auto')\n",
    "plt.colorbar(label='Pearson r')\n",
    "plt.title('Correlation heatmap')\n",
    "plt.xticks(ticks=np.arange(len(corr.columns)), labels=corr.columns, rotation=90, fontsize=7)\n",
    "plt.yticks(ticks=np.arange(len(corr.columns)), labels=corr.columns, fontsize=7)\n",
    "plt.tight_layout()\n",
    "plt.show()"
   ]
  },
  {
   "cell_type": "markdown",
   "id": "eee18219",
   "metadata": {},
   "source": [
    "### Cell 9 — Lagged correlation vs. load (rain, discharge, reservoir)"
   ]
  },
  {
   "cell_type": "code",
   "execution_count": null,
   "id": "ab835e15",
   "metadata": {},
   "outputs": [],
   "source": [
    "if COL_LOAD:\n",
    "    base = df[['date', COL_LOAD]].copy().dropna()\n",
    "    lags = range(0, 31)  # 0..30 days\n",
    "    results = []\n",
    "\n",
    "    for col in [COL_RAIN, COL_Q, COL_RES]:\n",
    "        if not col: \n",
    "            continue\n",
    "        tmp = df[['date', col]].copy()\n",
    "        for L in lags:\n",
    "            tmp[f'{col}_lag{L}'] = tmp[col].shift(L)\n",
    "        merged = base.merge(tmp.drop(columns=[col]), on='date', how='left')\n",
    "        for L in lags:\n",
    "            r = merged[COL_LOAD].corr(merged[f'{col}_lag{L}'])\n",
    "            results.append({'feature': col, 'lag': L, 'r': r})\n",
    "\n",
    "    res = pd.DataFrame(results).dropna().sort_values(['feature','lag']).reset_index(drop=True)\n",
    "    print(res.groupby('feature')['r'].max())\n",
    "    res.head()\n",
    "else:\n",
    "    print(\"Skip lagged correlation (no load column detected).\")"
   ]
  },
  {
   "cell_type": "markdown",
   "id": "bfe97b90",
   "metadata": {},
   "source": [
    "### Cell 10 — Seasonality (monthly & weekday averages)"
   ]
  },
  {
   "cell_type": "code",
   "execution_count": null,
   "id": "6dcbd2dd",
   "metadata": {},
   "outputs": [],
   "source": [
    "df['month'] = df['date'].dt.month\n",
    "df['dow'] = df['date'].dt.weekday  # 0=Mon\n",
    "\n",
    "def plot_group_mean(col, by, title):\n",
    "    if col in df.columns:\n",
    "        m = df.groupby(by)[col].mean()\n",
    "        plt.figure()\n",
    "        plt.plot(m.index, m.values, marker='o')\n",
    "        plt.title(title); plt.xlabel(by); plt.ylabel(col)\n",
    "        plt.tight_layout(); plt.show()\n",
    "\n",
    "for col in [c for c in [COL_LOAD, COL_RAIN, COL_Q, COL_RES] if c]:\n",
    "    plot_group_mean(col, 'month', f'{col}: monthly mean')\n",
    "    plot_group_mean(col, 'dow',   f'{col}: weekday mean')"
   ]
  },
  {
   "cell_type": "markdown",
   "id": "22a42f72",
   "metadata": {},
   "source": [
    "### Cell 11 — Seasonal decomposition of load (optional)"
   ]
  },
  {
   "cell_type": "code",
   "execution_count": null,
   "id": "03066e62",
   "metadata": {},
   "outputs": [],
   "source": [
    "try:\n",
    "    from statsmodels.tsa.seasonal import STL\n",
    "    if COL_LOAD:\n",
    "        s = df.set_index('date')[COL_LOAD].astype(float).interpolate(limit=7)\n",
    "        s = s.asfreq('D')  # ensure daily frequency\n",
    "        stl = STL(s, period=365, robust=True).fit()\n",
    "        fig = stl.plot()\n",
    "        fig.set_size_inches(10,6)\n",
    "        plt.tight_layout(); plt.show()\n",
    "    else:\n",
    "        print(\"No load column to decompose.\")\n",
    "except Exception as e:\n",
    "    print(\"statsmodels not installed or failed:\", e)"
   ]
  },
  {
   "cell_type": "markdown",
   "id": "80c9af26",
   "metadata": {},
   "source": [
    "### Cell 12 — Compare load on flagged vs. normal days"
   ]
  },
  {
   "cell_type": "code",
   "execution_count": null,
   "id": "40a9eb4a",
   "metadata": {},
   "outputs": [],
   "source": [
    "if COL_LOAD and 'flood_flag' in df.columns:\n",
    "    df['_any_flag'] = (df[[c for c in df.columns if c.endswith('_flag')]].sum(axis=1) > 0).astype(int)\n",
    "    grp = df.groupby('_any_flag')[COL_LOAD].agg(['count','mean','std','median'])\n",
    "    print(grp)\n",
    "else:\n",
    "    print(\"Skip comparison (need load and at least one *_flag column).\")"
   ]
  },
  {
   "cell_type": "markdown",
   "id": "2d0a2f3d",
   "metadata": {},
   "source": [
    "### Cell 13 — Notes / Findings (fill in)\n",
    "- Summarize which features correlate with load (and at what lags).\n",
    "- Highlight months/seasons with different behavior.\n",
    "- Comment on how keyword flags and topics align with spikes/dips.\n",
    "- Note any outliers or missing data patterns to handle before modeling.\n"
   ]
  }
 ],
 "metadata": {},
 "nbformat": 4,
 "nbformat_minor": 5
}
