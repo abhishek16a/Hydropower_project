{
 "cells": [
  {
   "cell_type": "markdown",
   "id": "1993f62f",
   "metadata": {},
   "source": [
    "# 06_decision_support — Risk & Recommendations\n",
    "Use **GP forecasts (mean±std)** + **hydrology & text flags** to compute daily **risk scores** and **operational recommendations**.\n",
    "\n",
    "**Inputs**\n",
    "- `master_with_topics.csv` (features + text)\n",
    "- `predictions_test.csv` (from 05_modeling: `date, y_true, gpr_mean, gpr_std, ...`)\n",
    "\n",
    "**Outputs**\n",
    "- `decision_recommendations.csv` (date, risks, decision, rationale)"
   ]
  },
  {
   "cell_type": "markdown",
   "id": "56e3521a",
   "metadata": {},
   "source": [
    "### Cell 1 — Imports & configuration"
   ]
  },
  {
   "cell_type": "code",
   "execution_count": null,
   "id": "95ec10b4",
   "metadata": {},
   "outputs": [],
   "source": [
    "import pandas as pd, numpy as np\n",
    "import matplotlib.pyplot as plt\n",
    "from pathlib import Path\n",
    "from scipy.stats import norm\n",
    "\n",
    "plt.rcParams['figure.figsize'] = (11,4)\n",
    "\n",
    "FEATURES_PATH = \"master_with_topics.csv\"\n",
    "PRED_PATH     = \"predictions_test.csv\"   # produced by 05_modeling\n",
    "OUT_PATH      = \"decision_recommendations.csv\"\n",
    "\n",
    "# If plant capacity unknown, approximate from history (95th pct of load)\n",
    "CAP_FALLBACK_PCT = 0.95\n",
    "MIN_FALLBACK_PCT = 0.10\n",
    "\n",
    "# Risk thresholds (tune)\n",
    "THR_HIGH  = 0.60\n",
    "THR_MED   = 0.35\n",
    "\n",
    "print(Path(FEATURES_PATH).resolve())\n",
    "print(Path(PRED_PATH).resolve())"
   ]
  },
  {
   "cell_type": "markdown",
   "id": "f391b58a",
   "metadata": {},
   "source": [
    "### Cell 2 — Load data & join forecasts"
   ]
  },
  {
   "cell_type": "code",
   "execution_count": null,
   "id": "4c9c4da5",
   "metadata": {},
   "outputs": [],
   "source": [
    "df = pd.read_csv(FEATURES_PATH, parse_dates=['date']).sort_values('date')\n",
    "pred = pd.read_csv(PRED_PATH, parse_dates=['date']) if Path(PRED_PATH).exists() else None\n",
    "\n",
    "# Detect load column\n",
    "def first_existing(cols):\n",
    "    for c in cols:\n",
    "        if c in df.columns: return c\n",
    "    return None\n",
    "\n",
    "COL_LOAD = first_existing(['load_MW','peak_load_mw','avg_load_mw'])\n",
    "COL_RAIN = first_existing(['rainfall_mm'])\n",
    "COL_Q    = first_existing(['discharge_m3s','discharge_cms'])\n",
    "COL_RES  = first_existing(['reservoir_m','gauge_m'])\n",
    "\n",
    "print(\"Detected → load:\", COL_LOAD, \"| rain:\", COL_RAIN, \"| discharge:\", COL_Q, \"| reservoir:\", COL_RES)\n",
    "\n",
    "if pred is not None and {'date','gpr_mean','gpr_std'}.issubset(pred.columns):\n",
    "    joined = df.merge(pred[['date','gpr_mean','gpr_std']], on='date', how='left')\n",
    "else:\n",
    "    # Fallback forecast (simple 7‑day moving average + residual std)\n",
    "    tmp = df[['date', COL_LOAD]].set_index('date').sort_index().asfreq('D')\n",
    "    gpr_mean = tmp[COL_LOAD].rolling(7, min_periods=3).mean()\n",
    "    gpr_std  = (tmp[COL_LOAD] - gpr_mean).rolling(30, min_periods=7).std().fillna(gpr_mean.std())\n",
    "    fallback = pd.DataFrame({'date': gpr_mean.index, 'gpr_mean': gpr_mean.values, 'gpr_std': gpr_std.values})\n",
    "    joined = df.merge(fallback, on='date', how='left')\n",
    "\n",
    "joined = joined.sort_values('date').reset_index(drop=True)\n",
    "joined.head()"
   ]
  },
  {
   "cell_type": "markdown",
   "id": "f217a6c0",
   "metadata": {},
   "source": [
    "### Cell 3 — Capacity/minimum & seasonal z‑scores"
   ]
  },
  {
   "cell_type": "code",
   "execution_count": null,
   "id": "ed220312",
   "metadata": {},
   "outputs": [],
   "source": [
    "# Capacity/min thresholds\n",
    "cap_mw = joined[COL_LOAD].quantile(CAP_FALLBACK_PCT) if COL_LOAD else joined['gpr_mean'].quantile(CAP_FALLBACK_PCT)\n",
    "min_mw = joined[COL_LOAD].quantile(MIN_FALLBACK_PCT) if COL_LOAD else joined['gpr_mean'].quantile(MIN_FALLBACK_PCT)\n",
    "print(f'Capacity≈P{int(CAP_FALLBACK_PCT*100)} = {cap_mw:.1f} MW | Minimum≈P{int(MIN_FALLBACK_PCT*100)} = {min_mw:.1f} MW')\n",
    "\n",
    "# Seasonal (monthly) z‑scores for rain/discharge/reservoir\n",
    "def monthly_z(x):\n",
    "    return (x - x.groupby(joined['date'].dt.month).transform('mean')) /            (x.groupby(joined['date'].dt.month).transform('std').replace(0,np.nan))\n",
    "\n",
    "joined['z_rain'] = monthly_z(joined[COL_RAIN]) if COL_RAIN in joined else 0.0\n",
    "joined['z_q']    = monthly_z(joined[COL_Q])   if COL_Q in joined else 0.0\n",
    "joined['z_res']  = monthly_z(joined[COL_RES]) if COL_RES in joined else 0.0\n",
    "\n",
    "# Keyword flags\n",
    "flags = [c for c in joined.columns if c.endswith('_flag')]\n",
    "print(\"Flags:\", flags[:10], \"...\")"
   ]
  },
  {
   "cell_type": "markdown",
   "id": "ff938be6",
   "metadata": {},
   "source": [
    "### Cell 4 — Compute risk components"
   ]
  },
  {
   "cell_type": "code",
   "execution_count": null,
   "id": "ba3775bb",
   "metadata": {},
   "outputs": [],
   "source": [
    "def sigmoid(x): return 1/(1+np.exp(-x))\n",
    "\n",
    "# 1) Hydrology-driven spill risk\n",
    "hydro_score = 0.5*sigmoid(joined['z_rain'].fillna(0)) + 0.5*sigmoid(joined['z_q'].fillna(0))\n",
    "kw_spill = 0.7*joined.get('flood_flag', 0) + 0.3*joined.get('weather_flag', 0)\n",
    "risk_spill = 1 - (1 - np.clip(hydro_score,0,1))*(1 - np.clip(kw_spill,0,1))\n",
    "\n",
    "# 2) High-load risk from forecast (probability exceeding capacity)\n",
    "z_hi = (cap_mw - joined['gpr_mean']) / joined['gpr_std'].replace(0, np.nan)\n",
    "risk_highload = 1 - norm.cdf(z_hi.fillna(0))\n",
    "\n",
    "# 3) Shortfall risk (probability below minimum)\n",
    "z_lo = (joined['gpr_mean'] - min_mw) / joined['gpr_std'].replace(0, np.nan)\n",
    "risk_shortfall = 1 - norm.cdf(z_lo.fillna(0))\n",
    "\n",
    "# 4) Maintenance deferral risk\n",
    "kw_maint = joined.get('maintenance_flag', 0) + joined.get('outage_flag', 0)\n",
    "risk_maint_defer = 1 - (1 - np.clip(risk_spill,0,1))*(1 - np.clip(kw_maint,0,1))\n",
    "\n",
    "risks = pd.DataFrame({\n",
    "    'date': joined['date'],\n",
    "    'risk_spill': np.clip(risk_spill,0,1),\n",
    "    'risk_highload': np.clip(risk_highload,0,1),\n",
    "    'risk_shortfall': np.clip(risk_shortfall,0,1),\n",
    "    'risk_maint_defer': np.clip(risk_maint_defer,0,1),\n",
    "})"
   ]
  },
  {
   "cell_type": "markdown",
   "id": "06d051a7",
   "metadata": {},
   "source": [
    "### Cell 5 — Turn risks into recommendations"
   ]
  },
  {
   "cell_type": "code",
   "execution_count": null,
   "id": "531f1c6c",
   "metadata": {},
   "outputs": [],
   "source": [
    "def level(p):\n",
    "    return 'HIGH' if p>=THR_HIGH else ('MED' if p>=THR_MED else 'LOW')\n",
    "\n",
    "decisions = []\n",
    "for _, r in risks.iterrows():\n",
    "    lv = {k: level(r[k]) for k in ['risk_spill','risk_highload','risk_shortfall','risk_maint_defer']}\n",
    "    # Priority order\n",
    "    if lv['risk_spill']=='HIGH':\n",
    "        action = 'Spill advisory & downstream warning'\n",
    "        why = 'High hydrology/flood signals; consider spill readiness and public alert.'\n",
    "    elif lv['risk_maint_defer']=='HIGH':\n",
    "        action = 'Defer maintenance; keep units available'\n",
    "        why = 'High hydrology/outage context; risk to availability.'\n",
    "    elif lv['risk_highload']=='HIGH':\n",
    "        action = 'Prepare peak management (imports/demand response)'\n",
    "        why = 'Forecasted load near capacity; plan imports/DR dispatch.'\n",
    "    elif lv['risk_shortfall']=='HIGH':\n",
    "        action = 'Plan load shedding window / optimize dispatch'\n",
    "        why = 'Load forecast below minimum; risk of shortfall.'\n",
    "    else:\n",
    "        # Med priorities\n",
    "        if lv['risk_spill']=='MED':\n",
    "            action = 'Monitor inflows; pre-position spillway crew'\n",
    "            why = 'Moderate spill risk; ensure readiness.'\n",
    "        elif lv['risk_maint_defer']=='MED':\n",
    "            action = 'Review maintenance schedule'\n",
    "            why = 'Some risk; consider partial deferral.'\n",
    "        elif lv['risk_highload']=='MED':\n",
    "            action = 'Prepare peak hour support'\n",
    "            why = 'Moderate high-load risk; line up support.'\n",
    "        elif lv['risk_shortfall']=='MED':\n",
    "            action = 'Monitor shortfall risk'\n",
    "            why = 'Moderate shortfall; monitor closely.'\n",
    "        else:\n",
    "            action = 'Normal operations'\n",
    "            why = 'All risks low.'\n",
    "    decisions.append((r['date'], r['risk_spill'], r['risk_highload'], r['risk_shortfall'], r['risk_maint_defer'], action, why))\n",
    "\n",
    "dec_df = pd.DataFrame(decisions, columns=['date','risk_spill','risk_highload','risk_shortfall','risk_maint_defer','decision','rationale'])\n",
    "dec_df.head(10)"
   ]
  },
  {
   "cell_type": "markdown",
   "id": "5040ab1b",
   "metadata": {},
   "source": [
    "### Cell 6 — Save and visualize"
   ]
  },
  {
   "cell_type": "code",
   "execution_count": null,
   "id": "f8ed8cde",
   "metadata": {},
   "outputs": [],
   "source": [
    "dec_df.to_csv(OUT_PATH, index=False)\n",
    "print(\"Saved:\", OUT_PATH, \"| rows:\", len(dec_df))\n",
    "\n",
    "plt.figure(figsize=(12,4))\n",
    "plt.plot(dec_df['date'], dec_df['risk_spill'], label='spill')\n",
    "plt.plot(dec_df['date'], dec_df['risk_highload'], label='highload')\n",
    "plt.plot(dec_df['date'], dec_df['risk_shortfall'], label='shortfall')\n",
    "plt.plot(dec_df['date'], dec_df['risk_maint_defer'], label='maint_defer')\n",
    "plt.axhline(THR_HIGH, color='k', linestyle='--', alpha=0.4)\n",
    "plt.axhline(THR_MED,  color='k', linestyle=':', alpha=0.4)\n",
    "plt.title('Daily risk scores')\n",
    "plt.legend(); plt.tight_layout(); plt.show()\n",
    "\n",
    "dec_df['decision'].value_counts()[:10]"
   ]
  }
 ],
 "metadata": {},
 "nbformat": 4,
 "nbformat_minor": 5
}
