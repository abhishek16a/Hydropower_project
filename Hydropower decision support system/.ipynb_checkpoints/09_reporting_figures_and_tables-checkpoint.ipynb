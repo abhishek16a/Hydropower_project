{
 "cells": [
  {
   "cell_type": "markdown",
   "id": "e275d95a",
   "metadata": {},
   "source": [
    "# 09_reporting_figures_and_tables — Paper-ready Outputs\n",
    "This notebook compiles **metrics, figures, and tables** for the report/thesis.\n",
    "\n",
    "**Inputs**\n",
    "- `final_metrics.csv` (from 08)\n",
    "- `bn_inference.csv` (from 07)\n",
    "- `decision_recommendations.csv` (from 06)\n",
    "- `predictions_test.csv` (from 05)\n",
    "- `master_with_topics.csv` or `features_daily.csv`\n",
    "\n",
    "**Outputs**\n",
    "- `figures/forecast_test_highres.png`\n",
    "- `figures/risk_highload_rule_vs_bn_highres.png`\n",
    "- `figures/decision_timeline_highres.png`\n",
    "- `results_table.csv`, `results_table.tex`\n"
   ]
  },
  {
   "cell_type": "markdown",
   "id": "65c263ff",
   "metadata": {},
   "source": [
    "## 1) Imports & paths"
   ]
  },
  {
   "cell_type": "code",
   "execution_count": null,
   "id": "0bc24df0",
   "metadata": {},
   "outputs": [],
   "source": [
    "\n",
    "import pandas as pd, numpy as np\n",
    "from pathlib import Path\n",
    "import matplotlib.pyplot as plt\n",
    "plt.rcParams['figure.figsize'] = (12,4)\n",
    "\n",
    "FIG_DIR = Path(\"figures\"); FIG_DIR.mkdir(exist_ok=True)\n",
    "\n",
    "METRICS_PATH = \"final_metrics.csv\"\n",
    "BN_PATH = \"bn_inference.csv\"\n",
    "RULE_PATH = \"decision_recommendations.csv\"\n",
    "PRED_PATH = \"predictions_test.csv\"\n",
    "FEAT_PATH = \"master_with_topics.csv\"  # or features_daily.csv\n",
    "\n",
    "for p in [METRICS_PATH, BN_PATH, RULE_PATH, PRED_PATH, FEAT_PATH]:\n",
    "    print(Path(p).resolve())"
   ]
  },
  {
   "cell_type": "markdown",
   "id": "4962a0e4",
   "metadata": {},
   "source": [
    "## 2) Load data"
   ]
  },
  {
   "cell_type": "code",
   "execution_count": null,
   "id": "de711d3e",
   "metadata": {},
   "outputs": [],
   "source": [
    "\n",
    "def rd(p, date_col='date'):\n",
    "    fp = Path(p)\n",
    "    return pd.read_csv(fp, parse_dates=[date_col]) if fp.exists() else None\n",
    "\n",
    "metrics = rd(METRICS_PATH)\n",
    "bn = rd(BN_PATH)\n",
    "rule = rd(RULE_PATH)\n",
    "pred = rd(PRED_PATH)\n",
    "feat = rd(FEAT_PATH)\n",
    "\n",
    "print('Loaded:', {k:v is not None for k,v in [('metrics',metrics),('bn',bn),('rule',rule),('pred',pred),('feat',feat)]})\n",
    "(metrics.head(2) if metrics is not None else None)"
   ]
  },
  {
   "cell_type": "markdown",
   "id": "4624fbe2",
   "metadata": {},
   "source": [
    "## 3) Forecast: Actual vs GP with PI (high-res figure)"
   ]
  },
  {
   "cell_type": "code",
   "execution_count": null,
   "id": "9ea54aa2",
   "metadata": {},
   "outputs": [],
   "source": [
    "\n",
    "if pred is not None and {'date','y_true','gpr_mean'}.issubset(pred.columns):\n",
    "    p = pred.sort_values('date')\n",
    "    plt.figure(figsize=(14,4))\n",
    "    plt.plot(p['date'], p['y_true'], label='Actual', lw=1.2)\n",
    "    plt.plot(p['date'], p['gpr_mean'], label='GP mean', lw=1.2)\n",
    "    if 'gpr_std' in p.columns:\n",
    "        lo, up = p['gpr_mean']-1.96*p['gpr_std'], p['gpr_mean']+1.96*p['gpr_std']\n",
    "        plt.fill_between(p['date'], lo, up, alpha=0.18, label='95% PI')\n",
    "    plt.title('Forecast — Test')\n",
    "    plt.xlabel('date'); plt.ylabel('load (MW)'); plt.legend()\n",
    "    out = FIG_DIR/'forecast_test_highres.png'\n",
    "    plt.tight_layout(); plt.savefig(out, dpi=220); plt.show()\n",
    "    print('Saved', out)"
   ]
  },
  {
   "cell_type": "markdown",
   "id": "87ef4a39",
   "metadata": {},
   "source": [
    "## 4) Rule vs BN — High‑load risk (high-res figure)"
   ]
  },
  {
   "cell_type": "code",
   "execution_count": null,
   "id": "39d6d74d",
   "metadata": {},
   "outputs": [],
   "source": [
    "\n",
    "if (rule is not None) and (bn is not None):\n",
    "    merged = rule.merge(bn, on='date', how='inner')\n",
    "    if 'P(RiskHighLoad=1)' in merged.columns and 'risk_highload' in merged.columns:\n",
    "        plt.figure(figsize=(14,4))\n",
    "        plt.plot(merged['date'], merged['risk_highload'], label='Rule score', lw=1.1)\n",
    "        plt.plot(merged['date'], merged['P(RiskHighLoad=1)'], label='BN P(highload)', lw=1.1)\n",
    "        plt.axhline(0.60, color='k', ls='--', alpha=0.4); plt.axhline(0.35, color='k', ls=':', alpha=0.4)\n",
    "        plt.title('High‑load risk: Rule vs BN'); plt.legend()\n",
    "        out = FIG_DIR/'risk_highload_rule_vs_bn_highres.png'\n",
    "        plt.tight_layout(); plt.savefig(out, dpi=220); plt.show()\n",
    "        print('Saved', out)"
   ]
  },
  {
   "cell_type": "markdown",
   "id": "56327a94",
   "metadata": {},
   "source": [
    "## 5) Decision timeline (color-coded)"
   ]
  },
  {
   "cell_type": "code",
   "execution_count": null,
   "id": "ef2e35d6",
   "metadata": {},
   "outputs": [],
   "source": [
    "\n",
    "if rule is not None:\n",
    "    d = rule[['date','decision']].copy()\n",
    "    order = ['Normal operations','Monitor inflows; pre-position spillway crew',\n",
    "             'Monitor shortfall','Monitor peak hour support',\n",
    "             'Spill advisory & downstream warning','Shortfall mitigation (imports/DR)',\n",
    "             'Prepare peak management (imports/demand response)',\n",
    "             'Defer maintenance; keep units available','Review maintenance schedule']\n",
    "    # Map to levels for color\n",
    "    palette = {\n",
    "        'Normal operations':'#9fd3c7',\n",
    "        'Monitor inflows; pre-position spillway crew':'#f3d250',\n",
    "        'Monitor shortfall':'#f3d250',\n",
    "        'Monitor peak hour support':'#f3d250',\n",
    "        'Review maintenance schedule':'#f3d250',\n",
    "        'Spill advisory & downstream warning':'#f08a5d',\n",
    "        'Shortfall mitigation (imports/DR)':'#f08a5d',\n",
    "        'Prepare peak management (imports/demand response)':'#f08a5d',\n",
    "        'Defer maintenance; keep units available':'#b83b5e'\n",
    "    }\n",
    "    d['color'] = d['decision'].map(palette).fillna('#cccccc')\n",
    "    plt.figure(figsize=(14,1.6))\n",
    "    plt.scatter(d['date'], [1]*len(d), c=d['color'], s=25, marker='s')\n",
    "    plt.yticks([]); plt.title('Decision timeline')\n",
    "    out = FIG_DIR/'decision_timeline_highres.png'\n",
    "    plt.tight_layout(); plt.savefig(out, dpi=220); plt.show()\n",
    "    print('Saved', out)"
   ]
  },
  {
   "cell_type": "markdown",
   "id": "8f3087c7",
   "metadata": {},
   "source": [
    "## 6) Results table (CSV + LaTeX)"
   ]
  },
  {
   "cell_type": "code",
   "execution_count": null,
   "id": "8bad98de",
   "metadata": {},
   "outputs": [],
   "source": [
    "\n",
    "# Start from metrics; add simple BN summary if available\n",
    "rows = []\n",
    "if metrics is not None:\n",
    "    for _, r in metrics.iterrows():\n",
    "        rows.append([r['model'], r['rmse'], r['mae'], r['mape_%'], r.get('pi_95_coverage_%', np.nan)])\n",
    "\n",
    "# BN alert summary (optional)\n",
    "bn_sum = None\n",
    "if bn is not None:\n",
    "    bn_sum = {\n",
    "        'bn_avg_P_highload': float(bn['P(RiskHighLoad=1)'].mean()) if 'P(RiskHighLoad=1)' in bn.columns else np.nan,\n",
    "        'bn_avg_P_shortfall': float(bn['P(RiskShortfall=1)'].mean()) if 'P(RiskShortfall=1)' in bn.columns else np.nan,\n",
    "        'bn_avg_P_spill': float(bn['P(RiskSpill=1)'].mean()) if 'P(RiskSpill=1)' in bn.columns else np.nan,\n",
    "    }\n",
    "\n",
    "tbl = pd.DataFrame(rows, columns=['model','rmse','mae','mape_%','pi_95_coverage_%'])\n",
    "tbl.to_csv('results_table.csv', index=False)\n",
    "print('Saved results_table.csv')\n",
    "tbl"
   ]
  },
  {
   "cell_type": "code",
   "execution_count": null,
   "id": "8c6c07f2",
   "metadata": {},
   "outputs": [],
   "source": [
    "\n",
    "# Minimal LaTeX export\n",
    "def df_to_latex(df, caption='Results', label='tab:results'):\n",
    "    cols = df.columns\n",
    "    header = ' & '.join(cols) + ' \\\\'\n",
    "    lines = [ '\\begin{table}[h]',\n",
    "              '\\centering',\n",
    "              f'\\caption{{{caption}}}',\n",
    "              f'\\label{{{label}}}',\n",
    "              '\\begin{tabular}{' + 'l' + 'r'*(len(cols)-1) + '}',\n",
    "              '\\toprule' if True else '',\n",
    "              header,\n",
    "              '\\midrule' if True else '' ]\n",
    "    for _, r in df.iterrows():\n",
    "        row = ' & '.join(str(x) for x in r.values) + ' \\\\'\n",
    "        lines.append(row)\n",
    "    lines += ['\\bottomrule' if True else '', '\\end{tabular}', '\\end{table}']\n",
    "    return '\\n'.join(lines)\n",
    "\n",
    "latex_str = df_to_latex(tbl, caption='Forecast metrics and coverage', label='tab:metrics')\n",
    "with open('results_table.tex','w',encoding='utf-8') as f:\n",
    "    f.write(latex_str)\n",
    "print('Saved results_table.tex')"
   ]
  }
 ],
 "metadata": {},
 "nbformat": 4,
 "nbformat_minor": 5
}
